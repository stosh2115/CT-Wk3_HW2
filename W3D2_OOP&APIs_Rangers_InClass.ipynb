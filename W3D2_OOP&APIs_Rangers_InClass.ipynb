{
 "cells": [
  {
   "cell_type": "markdown",
   "metadata": {},
   "source": [
    "# Object Oriented Programming 2 - examples and APIs\n"
   ]
  },
  {
   "cell_type": "markdown",
   "metadata": {},
   "source": [
    "## Tasks Today:\n",
    "\n",
    "   \n",
    "\n",
    "1) <b>Restful APIs & HTTP Requests </b> <br>\n",
    " &nbsp;&nbsp;&nbsp;&nbsp; a) What are APIs <br>\n",
    "  &nbsp;&nbsp;&nbsp;&nbsp; b) What does HTTP stand for, request methods, status codes <br>\n",
    " &nbsp;&nbsp;&nbsp;&nbsp; c) Making API requests and retrieving/jsonifying data <br>\n",
    " &nbsp;&nbsp;&nbsp;&nbsp; d) Using APIs requests within functions & classes <br>\n",
    " 2) <b>Working with the Pokemon API </b> <br>\n",
    " &nbsp;&nbsp;&nbsp;&nbsp; a) Making Requests to the Pokemon API<br>\n",
    "  &nbsp;&nbsp;&nbsp;&nbsp; b) Creating a function to make API Requests <br>\n",
    " &nbsp;&nbsp;&nbsp;&nbsp; c) Creating a Pokemon class and instantiating Pokemon objects<br>\n",
    " &nbsp;&nbsp;&nbsp;&nbsp; d) Create an Evolver class that inherits from Pokemon class <br>\n",
    " "
   ]
  },
  {
   "cell_type": "markdown",
   "metadata": {},
   "source": [
    "# working with APis"
   ]
  },
  {
   "cell_type": "markdown",
   "metadata": {},
   "source": [
    "<p> What exactly is an API? <br> <br>\n",
    "API is the acronym for Application Programming Interface, which is a software intermediary that allows two applications to talk to each other. Each time you use an app like Facebook, send an instant message, or check the weather on your phone, you're using an API. </p>"
   ]
  },
  {
   "cell_type": "markdown",
   "metadata": {},
   "source": [
    "### The Poke API  allows you to retreive a pokemon's information from PokeAPI https://pokeapi.co/\n",
    "\n"
   ]
  },
  {
   "cell_type": "code",
   "execution_count": 38,
   "metadata": {},
   "outputs": [
    {
     "name": "stdout",
     "output_type": "stream",
     "text": [
      "dict_keys(['abilities', 'base_experience', 'forms', 'game_indices', 'height', 'held_items', 'id', 'is_default', 'location_area_encounters', 'moves', 'name', 'order', 'past_abilities', 'past_types', 'species', 'sprites', 'stats', 'types', 'weight'])\n",
      "charmander\n",
      "85\n",
      "blaze\n",
      "fire\n"
     ]
    }
   ],
   "source": [
    "# making an API call\n",
    "import requests\n",
    "\n",
    "r = requests.get(\"https://pokeapi.co/api/v2/pokemon/charmander\")\n",
    "if r.status_code == 200:\n",
    "    data = r.json()\n",
    "else:\n",
    "    print(r.status_code)\n",
    "print(data.keys())\n",
    "# keys we're working with are:\n",
    "# abilities, name, types, weight\n",
    "\n",
    "\n",
    "poke_dict = {\n",
    "    'abilities': [\n",
    "        {\n",
    "            'ability': {\n",
    "            'name': \"blaze\",\n",
    "            'url': \"https://pokeapi.co/api/v2/ability/66/\"\n",
    "        }\n",
    "        },\n",
    "         {\n",
    "             'ability': {\n",
    "            'name': \"solar-power\",\n",
    "            'url': \"https://pokeapi.co/api/v2/ability/94/\"\n",
    "             }\n",
    "        }      \n",
    "    ],\n",
    "    'name': 'charmander',\n",
    "    'weight': 85,\n",
    "    'types': [\n",
    "        {\n",
    "            'type': {\n",
    "                'name': 'fire',\n",
    "                'url': 'https://pokeapi.co/api/v2/type/10/'\n",
    "            }\n",
    "        }\n",
    "    ]\n",
    "        \n",
    "    \n",
    "}\n",
    "print(poke_dict['name'])\n",
    "print(poke_dict['weight'])\n",
    "print(poke_dict['abilities'][0]['ability']['name'])\n",
    "print(poke_dict['types'][0]['type']['name'])\n",
    "    "
   ]
  },
  {
   "cell_type": "markdown",
   "metadata": {},
   "source": [
    "### Display a Pokemon's name, weight, abilities, and types"
   ]
  },
  {
   "cell_type": "code",
   "execution_count": 6,
   "metadata": {},
   "outputs": [
    {
     "name": "stdout",
     "output_type": "stream",
     "text": [
      "charmander\n"
     ]
    }
   ],
   "source": [
    "r = requests.get(\"https://pokeapi.co/api/v2/pokemon/charmander\")\n",
    "if r.status_code == 200:\n",
    "    data = r.json()\n",
    "else:\n",
    "    print(r.status_code)\n",
    "# print(data.keys())\n",
    "\n",
    "# get the pokemon name\n",
    "name = data[\"name\"] #data is now our dictionary with all th epokemon information\n",
    "print(name)"
   ]
  },
  {
   "cell_type": "code",
   "execution_count": 10,
   "metadata": {},
   "outputs": [
    {
     "name": "stdout",
     "output_type": "stream",
     "text": [
      "[{'slot': 1, 'type': {'name': 'fire', 'url': 'https://pokeapi.co/api/v2/type/10/'}}]\n",
      "['fire']\n"
     ]
    }
   ],
   "source": [
    "# get types\n",
    "print(data[\"types\"])\n",
    "types = [type_[\"type\"][\"name\"] for type_ in data[\"types\"]]\n",
    "print(types)"
   ]
  },
  {
   "cell_type": "code",
   "execution_count": 11,
   "metadata": {},
   "outputs": [
    {
     "name": "stdout",
     "output_type": "stream",
     "text": [
      "85\n"
     ]
    }
   ],
   "source": [
    "# get pokemon weight\n",
    "weight = data[\"weight\"]\n",
    "print(weight)"
   ]
  },
  {
   "cell_type": "code",
   "execution_count": 15,
   "metadata": {},
   "outputs": [
    {
     "name": "stdout",
     "output_type": "stream",
     "text": [
      "[{'ability': {'name': 'blaze', 'url': 'https://pokeapi.co/api/v2/ability/66/'}, 'is_hidden': False, 'slot': 1}, {'ability': {'name': 'solar-power', 'url': 'https://pokeapi.co/api/v2/ability/94/'}, 'is_hidden': True, 'slot': 3}]\n",
      "['blaze', 'solar-power']\n"
     ]
    }
   ],
   "source": [
    "# get pokemon abilities\n",
    "print(data[\"abilities\"])\n",
    "\n",
    "abilities = [pokebility[\"ability\"][\"name\"] for pokebility in data[\"abilities\"]]\n",
    "print(abilities)"
   ]
  },
  {
   "cell_type": "markdown",
   "metadata": {},
   "source": [
    "#### Create a function to Pull in your own Pokemon's data "
   ]
  },
  {
   "cell_type": "code",
   "execution_count": 24,
   "metadata": {},
   "outputs": [],
   "source": [
    "def poke_api_call(pokemon):\n",
    "    r = requests.get(f\"https://pokeapi.co/api/v2/pokemon/{pokemon}\")\n",
    "    if r.status_code == 200:\n",
    "        data = r.json()\n",
    "\n",
    "        name = data[\"name\"]\n",
    "        types = [type_[\"type\"][\"name\"] for type_ in data[\"types\"]]\n",
    "        abilities = [pokebility[\"ability\"][\"name\"] for pokebility in data[\"abilities\"]]\n",
    "        weight = data[\"weight\"]\n",
    "\n",
    "        poke = {\n",
    "            \"name\": name, \n",
    "            \"types\": types,\n",
    "            \"abilities\": abilities,\n",
    "            \"weight\": weight\n",
    "        }\n",
    "\n",
    "        return poke"
   ]
  },
  {
   "cell_type": "code",
   "execution_count": 20,
   "metadata": {},
   "outputs": [
    {
     "data": {
      "text/plain": [
       "{'name': 'squirtle',\n",
       " 'types': ['water'],\n",
       " 'abilities': ['torrent', 'rain-dish'],\n",
       " 'weight': 90}"
      ]
     },
     "execution_count": 20,
     "metadata": {},
     "output_type": "execute_result"
    }
   ],
   "source": [
    "poke_api_call(\"squirtle\")"
   ]
  },
  {
   "cell_type": "code",
   "execution_count": 21,
   "metadata": {},
   "outputs": [
    {
     "data": {
      "text/plain": [
       "{'name': 'heracross',\n",
       " 'types': ['bug', 'fighting'],\n",
       " 'abilities': ['swarm', 'guts', 'moxie'],\n",
       " 'weight': 540}"
      ]
     },
     "execution_count": 21,
     "metadata": {},
     "output_type": "execute_result"
    }
   ],
   "source": [
    "poke_api_call(\"heracross\")"
   ]
  },
  {
   "cell_type": "code",
   "execution_count": 22,
   "metadata": {},
   "outputs": [
    {
     "data": {
      "text/plain": [
       "{'name': 'pichu',\n",
       " 'types': ['electric'],\n",
       " 'abilities': ['static', 'lightning-rod'],\n",
       " 'weight': 20}"
      ]
     },
     "execution_count": 22,
     "metadata": {},
     "output_type": "execute_result"
    }
   ],
   "source": [
    "poke_api_call(\"pichu\")"
   ]
  },
  {
   "cell_type": "markdown",
   "metadata": {},
   "source": [
    "Choose your pokemon"
   ]
  },
  {
   "cell_type": "code",
   "execution_count": null,
   "metadata": {},
   "outputs": [],
   "source": [
    "\n"
   ]
  },
  {
   "cell_type": "markdown",
   "metadata": {},
   "source": [
    "#### Use your function to create a dictionary of your favorite 6 pokemon"
   ]
  },
  {
   "cell_type": "code",
   "execution_count": 26,
   "metadata": {},
   "outputs": [
    {
     "name": "stdout",
     "output_type": "stream",
     "text": [
      "{'Charizard': {'name': 'charizard', 'types': ['fire', 'flying'], 'abilities': ['blaze', 'solar-power'], 'weight': 905}, 'Blastoise': {'name': 'blastoise', 'types': ['water'], 'abilities': ['torrent', 'rain-dish'], 'weight': 855}, 'Gengar': {'name': 'gengar', 'types': ['ghost', 'poison'], 'abilities': ['cursed-body'], 'weight': 405}, 'Magikarp': {'name': 'magikarp', 'types': ['water'], 'abilities': ['swift-swim', 'rattled'], 'weight': 100}, 'Bulbasaur': {'name': 'bulbasaur', 'types': ['grass', 'poison'], 'abilities': ['overgrow', 'chlorophyll'], 'weight': 69}, 'Arcanine': {'name': 'arcanine', 'types': ['fire'], 'abilities': ['intimidate', 'flash-fire', 'justified'], 'weight': 1550}}\n"
     ]
    }
   ],
   "source": [
    "# Place all 6 of your pokemon on the object below, each pokemon should have at least as much info as Pikachu did.\n",
    "party = ['charizard', 'blastoise', 'gengar', 'magikarp', 'bulbasaur', 'arcanine']\n",
    "my_six_pokemon = {}\n",
    "for pokemon in party:\n",
    "    poke_stats = poke_api_call(pokemon)\n",
    "    my_six_pokemon[pokemon.title()] = poke_stats\n",
    "    \n",
    "print(my_six_pokemon)"
   ]
  },
  {
   "cell_type": "markdown",
   "metadata": {},
   "source": [
    "## Lets create a class called 'Pokemon' and create our pokemon as instances"
   ]
  },
  {
   "cell_type": "code",
   "execution_count": 39,
   "metadata": {},
   "outputs": [],
   "source": [
    "class Pokemon:\n",
    "    def __init__(self, name):\n",
    "        self.name = name\n",
    "        self.types = []\n",
    "        self.abilities = []\n",
    "        self.weight = None\n",
    "        self.poke_api_call()\n",
    "\n",
    "    def poke_api_call(self):\n",
    "        r = requests.get(f\"https://pokeapi.co/api/v2/pokemon/{self.name.lower()}\")\n",
    "        if r.status_code == 200:\n",
    "            pokemon = r.json()\n",
    "        else:\n",
    "            print(f\"Please check pokemon name spelling and try again: {r.staus_code}\")\n",
    "            return\n",
    "\n",
    "        self.name = pokemon[\"name\"]\n",
    "        self.types = [type_[\"type\"][\"name\"] for type_ in pokemon[\"types\"]]\n",
    "        self.weight = pokemon[\"weight\"]\n",
    "        self.abilities = [pokebility[\"ability\"][\"name\"] for pokebility in pokemon[\"abilities\"]]\n",
    "        print(f\"{self.name}'s data has been updated!\")\n",
    "\n",
    "\n",
    "    def __repr__(self): #string representation of our object, if not provided we get the object loaction in memory instead\n",
    "        return f\"You caught a {self.name}\"\n",
    "        \n",
    "        "
   ]
  },
  {
   "cell_type": "code",
   "execution_count": 40,
   "metadata": {},
   "outputs": [
    {
     "name": "stdout",
     "output_type": "stream",
     "text": [
      "charmander's data has been updated!\n",
      "{'name': 'charmander', 'types': ['fire'], 'abilities': ['blaze', 'solar-power'], 'weight': 85}\n",
      "You caught a charmander\n",
      "85\n"
     ]
    }
   ],
   "source": [
    "charmander = Pokemon(\"charmander\")\n",
    "print(charmander.__dict__)\n",
    "print(charmander)\n",
    "print(charmander.weight)"
   ]
  },
  {
   "cell_type": "code",
   "execution_count": 41,
   "metadata": {},
   "outputs": [
    {
     "name": "stdout",
     "output_type": "stream",
     "text": [
      "charizard's data has been updated!\n",
      "blastoise's data has been updated!\n",
      "gengar's data has been updated!\n",
      "magikarp's data has been updated!\n",
      "bulbasaur's data has been updated!\n",
      "arcanine's data has been updated!\n",
      "{'Charizard': {'name': 'charizard', 'types': ['fire', 'flying'], 'abilities': ['blaze', 'solar-power'], 'weight': 905}, 'Blastoise': {'name': 'blastoise', 'types': ['water'], 'abilities': ['torrent', 'rain-dish'], 'weight': 855}, 'Gengar': {'name': 'gengar', 'types': ['ghost', 'poison'], 'abilities': ['cursed-body'], 'weight': 405}, 'Magikarp': {'name': 'magikarp', 'types': ['water'], 'abilities': ['swift-swim', 'rattled'], 'weight': 100}, 'Bulbasaur': {'name': 'bulbasaur', 'types': ['grass', 'poison'], 'abilities': ['overgrow', 'chlorophyll'], 'weight': 69}, 'Arcanine': {'name': 'arcanine', 'types': ['fire'], 'abilities': ['intimidate', 'flash-fire', 'justified'], 'weight': 1550}}\n"
     ]
    }
   ],
   "source": [
    "party = ['charizard', 'blastoise', 'gengar', 'magikarp', 'bulbasaur', 'arcanine']\n",
    "pokedex = {}\n",
    "for name in party:\n",
    "    new = Pokemon(name)\n",
    "    pokedex[name.title()] = new.__dict__\n",
    "print(pokedex)"
   ]
  },
  {
   "cell_type": "markdown",
   "metadata": {},
   "source": [
    "### Let's Catch some Pokemon"
   ]
  },
  {
   "cell_type": "markdown",
   "metadata": {},
   "source": [
    "## Exercise 1:"
   ]
  },
  {
   "cell_type": "markdown",
   "metadata": {},
   "source": [
    "### Create a Method prints an image of your pokemon\n",
    "\n",
    "<p>HINT: You may need another attribute as well to store your image url within. </p>"
   ]
  },
  {
   "cell_type": "code",
   "execution_count": 6,
   "metadata": {},
   "outputs": [
    {
     "data": {
      "image/jpeg": "[encoded data removed]",
      "text/plain": [
       "<IPython.core.display.Image object>"
      ]
     },
     "metadata": {
      "image/jpeg": {
       "width": 300
      }
     },
     "output_type": "display_data"
    }
   ],
   "source": [
    "# Display an image in Jupyter notebook\n",
    "from IPython.display import Image\n",
    "\n",
    "display(Image( 'https://i.redd.it/45n4mhusa8l41.jpg', width = 300))\n"
   ]
  },
  {
   "cell_type": "code",
   "execution_count": 7,
   "metadata": {},
   "outputs": [],
   "source": [
    "# recreate your pokemon class here\n",
    "import requests\n",
    "        \n",
    "class Pokemon:\n",
    "    def __init__(self, name):\n",
    "        self.name = name\n",
    "        self.types = []\n",
    "        self.abilities = []\n",
    "        self.weight = None\n",
    "        # add a new image attribute\n",
    "        self.image = None\n",
    "        self.poke_api_call()\n",
    "\n",
    "    def poke_api_call(self):\n",
    "        r = requests.get(f\"https://pokeapi.co/api/v2/pokemon/{self.name.lower()}\")\n",
    "        if r.status_code == 200:\n",
    "            pokemon = r.json()\n",
    "        else:\n",
    "            print(f\"Please check pokemon name spelling and try again: {r.staus_code}\")\n",
    "            return\n",
    "\n",
    "        self.name = pokemon[\"name\"]\n",
    "        self.types = [type_[\"type\"][\"name\"] for type_ in pokemon[\"types\"]]\n",
    "        self.weight = pokemon[\"weight\"]\n",
    "        self.abilities = [pokebility[\"ability\"][\"name\"] for pokebility in pokemon[\"abilities\"]]\n",
    "        # set image attribute\n",
    "        self.image = pokemon[\"sprites\"][\"other\"][\"dream_world\"][\"front_default\"]\n",
    "        print(f\"{self.name}'s data has been updated!\")\n",
    "\n",
    "    # create method to display image\n",
    "    def display(self):\n",
    "        display(Image(url=self.image))\n",
    "\n",
    "\n",
    "    def __repr__(self): #string representation of our object, if not provided we get the object loaction in memory instead\n",
    "        return f\"You caught a {self.name.title()}\""
   ]
  },
  {
   "cell_type": "code",
   "execution_count": 8,
   "metadata": {},
   "outputs": [
    {
     "name": "stdout",
     "output_type": "stream",
     "text": [
      "charizard's data has been updated!\n"
     ]
    },
    {
     "data": {
      "text/html": [
       "<img src=\"https://raw.githubusercontent.com/PokeAPI/sprites/master/sprites/pokemon/other/dream-world/6.svg\"/>"
      ],
      "text/plain": [
       "<IPython.core.display.Image object>"
      ]
     },
     "metadata": {},
     "output_type": "display_data"
    },
    {
     "name": "stdout",
     "output_type": "stream",
     "text": [
      "You caught a Charizard\n"
     ]
    }
   ],
   "source": [
    "charizard = Pokemon(\"charizard\")\n",
    "charizard.display()\n",
    "print(charizard)"
   ]
  },
  {
   "cell_type": "markdown",
   "metadata": {},
   "source": [
    "## Exercise 2:"
   ]
  },
  {
   "cell_type": "markdown",
   "metadata": {},
   "source": [
    "### Create a Method that evolves your Pokemon\n",
    "If your pokemon can't evolve any further print a message that says \"\\<name of pokemon> can't evolve.\""
   ]
  },
  {
   "cell_type": "markdown",
   "metadata": {},
   "source": [
    "Now let's evolve a few"
   ]
  },
  {
   "cell_type": "code",
   "execution_count": 9,
   "metadata": {
    "scrolled": true
   },
   "outputs": [],
   "source": [
    "import requests\n",
    "# recreate your pokemon class here\n",
    "import requests\n",
    "        \n",
    "class Pokemon:\n",
    "    def __init__(self, name):\n",
    "        self.name = name\n",
    "        self.types = []\n",
    "        self.abilities = []\n",
    "        self.weight = None\n",
    "        # add a new image attribute\n",
    "        self.image = None\n",
    "        self.poke_api_call()\n",
    "\n",
    "    def poke_api_call(self):\n",
    "        r = requests.get(f\"https://pokeapi.co/api/v2/pokemon/{self.name.lower()}\")\n",
    "        if r.status_code == 200:\n",
    "            pokemon = r.json()\n",
    "        else:\n",
    "            print(f\"Please check pokemon name spelling and try again: {r.staus_code}\")\n",
    "            return\n",
    "\n",
    "        self.name = pokemon[\"name\"]\n",
    "        self.types = [type_[\"type\"][\"name\"] for type_ in pokemon[\"types\"]]\n",
    "        self.weight = pokemon[\"weight\"]\n",
    "        self.abilities = [pokebility[\"ability\"][\"name\"] for pokebility in pokemon[\"abilities\"]]\n",
    "        # set image attribute\n",
    "        self.image = pokemon[\"sprites\"][\"other\"][\"dream_world\"][\"front_default\"]\n",
    "        print(f\"{self.name}'s data has been updated!\")\n",
    "\n",
    "    # create method to display image\n",
    "    def display(self):\n",
    "        display(Image(url=self.image))\n",
    "\n",
    "\n",
    "    def __repr__(self): #string representation of our object, if not provided we get the object loaction in memory instead\n",
    "        return f\"You caught a {self.name.title()}\"                                             "
   ]
  },
  {
   "cell_type": "code",
   "execution_count": 18,
   "metadata": {},
   "outputs": [],
   "source": [
    "## Evolver class should inherit pokemon class\n",
    "from time import sleep\n",
    "\n",
    "class Evolver(Pokemon):\n",
    "    def __init__(self, name):\n",
    "        super().__init__(name)\n",
    "\n",
    "    def evolve(self):\n",
    "        # api call to the pokemon species endpoint\n",
    "        r = requests.get(f\"https://pokeapi.co/api/v2/pokemon-species/{self.name.lower()}\")\n",
    "        if r.status_code == 200:\n",
    "            pokemon_species = r.json()\n",
    "        else:\n",
    "            print(f\"Ran into an issue, please check your pokemon's name: {r.status_code}\")\n",
    "            return\n",
    "        r = requests.get(pokemon_species[\"evolution_chain\"][\"url\"])\n",
    "        if r.status_code == 200:\n",
    "            ev_chain = r.json()\n",
    "            ev_chain = ev_chain[\"chain\"]\n",
    "        else:\n",
    "            print(f\"Ran into an issue, please check your pokemon's name: {r.status_code}\")\n",
    "            return\n",
    "\n",
    "        base_name = ev_chain[\"species\"][\"name\"]\n",
    "        evolution = ev_chain[\"evolves_to\"][0]\n",
    "        evolution_name = evolution[\"species\"][\"name\"]\n",
    "\n",
    "        # Evolution 1\n",
    "        if base_name == self.name:\n",
    "            pass\n",
    "        # evolution 2\n",
    "        elif evolution_name == self.name:\n",
    "            evolution_name = evolution[\"evolves_to\"][0][\"species\"][\"name\"]\n",
    "        # attempting another evolution\n",
    "        else:\n",
    "            print(f\"You can not evolve your {self.name} any further.....\")\n",
    "            return\n",
    "\n",
    "        print(\"......\")\n",
    "        sleep(2)\n",
    "        print(f\"Your {self.name} is evolving?!?!?\")\n",
    "        self.display()\n",
    "        sleep(2)\n",
    "        print(\"......\")\n",
    "        print(f\"Congratulations! Your {self.name} has evolved to....\")\n",
    "        self.name = evolution_name\n",
    "        self.poke_api_call()\n",
    "        print(f\"{self.name.title()}!!!!!\")\n",
    "        self.display()"
   ]
  },
  {
   "cell_type": "code",
   "execution_count": 19,
   "metadata": {},
   "outputs": [
    {
     "name": "stdout",
     "output_type": "stream",
     "text": [
      "charmander's data has been updated!\n",
      "charmander\n",
      "['blaze', 'solar-power']\n"
     ]
    }
   ],
   "source": [
    "bulbasaur = Evolver(\"charmander\")\n",
    "print(bulbasaur.name)\n",
    "print(bulbasaur.abilities)\n"
   ]
  },
  {
   "cell_type": "code",
   "execution_count": 21,
   "metadata": {},
   "outputs": [
    {
     "name": "stdout",
     "output_type": "stream",
     "text": [
      "......\n",
      "Your charmeleon is evolving?!?!?\n"
     ]
    },
    {
     "data": {
      "text/html": [
       "<img src=\"https://raw.githubusercontent.com/PokeAPI/sprites/master/sprites/pokemon/other/dream-world/5.svg\"/>"
      ],
      "text/plain": [
       "<IPython.core.display.Image object>"
      ]
     },
     "metadata": {},
     "output_type": "display_data"
    },
    {
     "name": "stdout",
     "output_type": "stream",
     "text": [
      "......\n",
      "Congratulations! Your charmeleon has evolved to....\n",
      "charizard's data has been updated!\n",
      "Charizard!!!!!\n"
     ]
    },
    {
     "data": {
      "text/html": [
       "<img src=\"https://raw.githubusercontent.com/PokeAPI/sprites/master/sprites/pokemon/other/dream-world/6.svg\"/>"
      ],
      "text/plain": [
       "<IPython.core.display.Image object>"
      ]
     },
     "metadata": {},
     "output_type": "display_data"
    }
   ],
   "source": [
    "bulbasaur.evolve()"
   ]
  },
  {
   "cell_type": "markdown",
   "metadata": {},
   "source": [
    "#  Final Exercise: <br> <br>Create a Move_Tutor Class that in herits from the Pokemon parent class.\n",
    "\n",
    "<p>This class should have a list attribute (move_list) that holds pokemon moves which should be populated with an api call to the PokeApi moves section  (just like we did with abilities and types in the Pokemon class example). Finally create a class method that teaches your pokemon up to 4 moves. This method should take in a user input to what move they would like to teach and do a membership inside the move_list. If the move exists inside the move_list the pokemon can learn that move and append to the final taught_moves list. </p> \n",
    "\n"
   ]
  },
  {
   "cell_type": "code",
   "execution_count": 48,
   "metadata": {},
   "outputs": [
    {
     "name": "stdout",
     "output_type": "stream",
     "text": [
      "pikachu's data has been updated!\n"
     ]
    },
    {
     "name": "stdin",
     "output_type": "stream",
     "text": [
      "Enter what move you want learn pikachu or stop mega-punch\n"
     ]
    },
    {
     "name": "stdout",
     "output_type": "stream",
     "text": [
      "pikachu learned new mega-punch!\n"
     ]
    },
    {
     "name": "stdin",
     "output_type": "stream",
     "text": [
      "Enter what move you want learn pikachu or stop fire\n"
     ]
    },
    {
     "name": "stdout",
     "output_type": "stream",
     "text": [
      "fire is not valid! Please try again.\n"
     ]
    },
    {
     "name": "stdin",
     "output_type": "stream",
     "text": [
      "Enter what move you want learn pikachu or stop stop\n"
     ]
    }
   ],
   "source": [
    "import requests\n",
    "class Move_Tutor(Pokemon):\n",
    "    def __init__(self, name):\n",
    "        super().__init__(name)\n",
    "        self.name = name\n",
    "        self.move_list = []\n",
    "        self.taught_moves = []\n",
    "        \n",
    "    def teach_move(self):\n",
    "        r = requests.get(f\"https://pokeapi.co/api/v2/pokemon/{self.name.lower()}\")\n",
    "        if r.status_code == 200:\n",
    "            pokemon = r.json()\n",
    "        else:\n",
    "            print(f\"Please check pokemon move list and try again: {r.staus_code}\")\n",
    "            return\n",
    "\n",
    "        self.name = pokemon[\"name\"]\n",
    "        self.move_list = [pokemoves[\"move\"][\"name\"] for pokemoves in pokemon[\"moves\"]]\n",
    "\n",
    "        for moves in range(4):\n",
    "            moves_teach = input(f\"Enter what move you want learn {self.name} or stop\")\n",
    "\n",
    "            if moves_teach == \"stop\":\n",
    "                break\n",
    "\n",
    "            if moves_teach in self.move_list:\n",
    "                self.taught_moves.append(moves_teach)\n",
    "                print(f\"{self.name} learned new {moves_teach}!\")\n",
    "\n",
    "            else:\n",
    "                print(f\"{moves_teach} is not valid! Please try again.\")\n",
    "                \n",
    "pikachu = Move_Tutor(\"pikachu\")\n",
    "pikachu.teach_move()\n",
    "\n",
    " "
   ]
  },
  {
   "cell_type": "code",
   "execution_count": null,
   "metadata": {},
   "outputs": [],
   "source": []
  },
  {
   "cell_type": "code",
   "execution_count": 36,
   "metadata": {},
   "outputs": [
    {
     "ename": "NameError",
     "evalue": "name 'pikachu' is not defined",
     "output_type": "error",
     "traceback": [
      "\u001b[1;31m---------------------------------------------------------------------------\u001b[0m",
      "\u001b[1;31mNameError\u001b[0m                                 Traceback (most recent call last)",
      "Cell \u001b[1;32mIn[36], line 1\u001b[0m\n\u001b[1;32m----> 1\u001b[0m \u001b[43mpikachu\u001b[49m\u001b[38;5;241m.\u001b[39mteach_move()\n",
      "\u001b[1;31mNameError\u001b[0m: name 'pikachu' is not defined"
     ]
    }
   ],
   "source": [
    "\n"
   ]
  },
  {
   "cell_type": "code",
   "execution_count": null,
   "metadata": {},
   "outputs": [],
   "source": [
    "pikachu.show_moves()"
   ]
  }
 ],
 "metadata": {
  "kernelspec": {
   "display_name": "Python 3 (ipykernel)",
   "language": "python",
   "name": "python3"
  },
  "language_info": {
   "codemirror_mode": {
    "name": "ipython",
    "version": 3
   },
   "file_extension": ".py",
   "mimetype": "text/x-python",
   "name": "python",
   "nbconvert_exporter": "python",
   "pygments_lexer": "ipython3",
   "version": "3.12.1"
  }
 },
 "nbformat": 4,
 "nbformat_minor": 4
}
